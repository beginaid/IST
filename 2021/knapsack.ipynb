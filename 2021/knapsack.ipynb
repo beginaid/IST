{
  "nbformat": 4,
  "nbformat_minor": 0,
  "metadata": {
    "colab": {
      "name": "2021/knapsack.ipynb",
      "provenance": [],
      "collapsed_sections": [],
      "authorship_tag": "ABX9TyPi/IFTu0r+dxjyTrFkLMFy"
    },
    "kernelspec": {
      "name": "python3",
      "display_name": "Python 3"
    },
    "language_info": {
      "name": "python"
    }
  },
  "cells": [
    {
      "cell_type": "code",
      "execution_count": 7,
      "metadata": {
        "id": "dGI_1qVbKwcR"
      },
      "outputs": [],
      "source": [
        "'''\n",
        "初期設定\n",
        "'''\n",
        "N = 6  # アイテム数\n",
        "W = 10  # 重さの上限\n",
        "w = [2, 3, 3, 4, 4, 5] # アイテムの重さ\n",
        "v = [3, 4, 5, 6, 7, 8] # アイテムの価値\n",
        "dp = [[0]*(W+1) for i in range(N+1)] # 空のDPテーブル作成\n",
        "\n",
        "'''\n",
        "DP実行\n",
        "'''\n",
        "for i in range(N):\n",
        "    for j in range(W+1):\n",
        "        # 新しいアイテムを選ぶと重さの上限を超えてしまう場合は最適解を引き継ぐ\n",
        "        if j < w[i]:\n",
        "            dp[i+1][j] = dp[i][j]\n",
        "        # 新しいアイテムを選ぶと重さの上限を超えない場合は新しいアイテムを取った場合と取らなかった場合で大きい方を採用する\n",
        "        else: \n",
        "            dp[i+1][j] = max(dp[i][j], dp[i][j-w[i]]+v[i])"
      ]
    },
    {
      "cell_type": "code",
      "source": [
        "for i in range(len(dp)): \n",
        "    print(dp[i])"
      ],
      "metadata": {
        "colab": {
          "base_uri": "https://localhost:8080/"
        },
        "id": "DYgNN6S_LNp_",
        "outputId": "058bf2f0-950f-475d-c8a8-9946ef9e22bb"
      },
      "execution_count": 8,
      "outputs": [
        {
          "output_type": "stream",
          "name": "stdout",
          "text": [
            "[0, 0, 0, 0, 0, 0, 0, 0, 0, 0, 0]\n",
            "[0, 0, 3, 3, 3, 3, 3, 3, 3, 3, 3]\n",
            "[0, 0, 3, 4, 4, 7, 7, 7, 7, 7, 7]\n",
            "[0, 0, 3, 5, 5, 8, 9, 9, 12, 12, 12]\n",
            "[0, 0, 3, 5, 6, 8, 9, 11, 12, 14, 15]\n",
            "[0, 0, 3, 5, 7, 8, 10, 12, 13, 15, 16]\n",
            "[0, 0, 3, 5, 7, 8, 10, 12, 13, 15, 16]\n"
          ]
        }
      ]
    }
  ]
}