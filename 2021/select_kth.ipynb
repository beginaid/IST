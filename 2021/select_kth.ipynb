{
  "nbformat": 4,
  "nbformat_minor": 0,
  "metadata": {
    "colab": {
      "name": "select_kth.ipynb",
      "provenance": [],
      "collapsed_sections": [],
      "authorship_tag": "ABX9TyPHs9x1sUUuXn4AU9wQTfvh"
    },
    "kernelspec": {
      "name": "python3",
      "display_name": "Python 3"
    },
    "language_info": {
      "name": "python"
    }
  },
  "cells": [
    {
      "cell_type": "code",
      "source": [
        "import random\n",
        "\n",
        "\"\"\"\n",
        "本文で定義された関数\n",
        "- PivotSelect(A): 集合Aに含まれる要素のうち一つをランダムに返す関数\n",
        "- Partition(A, p): 集合Aをp以下の値で構成される集合Lとpより大きい値で構成される集合Rに分割する関数\n",
        "- Remove(A, p): 集合Aから要素pを削除する関数\n",
        "\"\"\"\n",
        "def PivotSelect(A):\n",
        "    return random.choice(A)\n",
        "\n",
        "def Partition(A, p):\n",
        "    L = [A[i] for i in range(len(A)) if A[i]<= p]\n",
        "    R = [A[i] for i in range(len(A)) if A[i]> p]\n",
        "    return (L, R)\n",
        "\n",
        "def Remove(A, p):\n",
        "    A.remove(p)"
      ],
      "metadata": {
        "id": "_KoJyRf2PWay"
      },
      "execution_count": null,
      "outputs": []
    },
    {
      "cell_type": "code",
      "execution_count": null,
      "metadata": {
        "id": "7933MqfwO9FT"
      },
      "outputs": [],
      "source": [
        "def SelectKth(A, k):\n",
        "    p = PivotSelect(A)\n",
        "    (L, R) = Partition(A, p)\n",
        "\n",
        "    if (len(L) == k):\n",
        "        return p\n",
        "    if (len(L) > k):\n",
        "        if (len(R) == 0):\n",
        "            Remove(L, p)\n",
        "        return SelectKth(L, k)\n",
        "    if (len(L) < k):\n",
        "        return SelectKth(R, k-len(L))"
      ]
    },
    {
      "cell_type": "code",
      "source": [
        "# 本文中の例\n",
        "A = [5, 1, 7]\n",
        "SelectKth(A, 2)"
      ],
      "metadata": {
        "id": "cgVOP7WPPdgG"
      },
      "execution_count": null,
      "outputs": []
    }
  ]
}