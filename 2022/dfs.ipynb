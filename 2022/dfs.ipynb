{
  "nbformat": 4,
  "nbformat_minor": 0,
  "metadata": {
    "colab": {
      "provenance": [],
      "authorship_tag": "ABX9TyO4YbUnyqnnLvLcN5LSXwTk"
    },
    "kernelspec": {
      "name": "python3",
      "display_name": "Python 3"
    },
    "language_info": {
      "name": "python"
    }
  },
  "cells": [
    {
      "cell_type": "code",
      "execution_count": 1,
      "metadata": {
        "id": "DhLaUPcSyvIN"
      },
      "outputs": [],
      "source": [
        "# 木構造のクラス化\n",
        "class Node:\n",
        "    def __init__(self, val):\n",
        "        self.val = val # ノードに保持する値\n",
        "        self.left = None # 左の葉\n",
        "        self.right = None # 右の葉"
      ]
    },
    {
      "cell_type": "code",
      "source": [
        "# 前置順（行きがけ順）\n",
        "def pre_order(node):\n",
        "    if node:\n",
        "        print(node.val, end=\" \")\n",
        "        pre_order(node.left)\n",
        "        pre_order(node.right)\n",
        "\n",
        "# 中間順（通りがけ順）\n",
        "def in_order(node):\n",
        "    if node:\n",
        "        in_order(node.left)\n",
        "        print(node.val, end=\" \")\n",
        "        in_order(node.right)\n",
        "\n",
        "# 後置順（帰りがけ順）\n",
        "def post_order(node):\n",
        "    if node:\n",
        "        post_order(node.left)\n",
        "        post_order(node.right)\n",
        "        print(node.val, end=\" \")"
      ],
      "metadata": {
        "id": "9jUHPiGjy6xZ"
      },
      "execution_count": 2,
      "outputs": []
    },
    {
      "cell_type": "code",
      "source": [
        "# 与えられた計算式を構文木に落とし込む\n",
        "# 深さ0\n",
        "root = Node(\"+\")\n",
        "\n",
        "# 深さ1\n",
        "root.left = Node(\"*\")\n",
        "root.right = Node(\"/\")\n",
        "\n",
        "# 深さ2\n",
        "root.left.left = Node(\"-\")\n",
        "root.left.right = Node(2)\n",
        "root.right.left = Node(\"-\")\n",
        "root.right.right = Node(\"+\")\n",
        "\n",
        "# 深さ3\n",
        "root.left.left.left = Node(5)\n",
        "root.left.left.right = Node(3)\n",
        "root.right.left.left = Node(7)\n",
        "root.right.left.right = Node(4)\n",
        "root.right.right.left = Node(2)\n",
        "root.right.right.right = Node(1)"
      ],
      "metadata": {
        "id": "sqDTodrazOon"
      },
      "execution_count": 3,
      "outputs": []
    },
    {
      "cell_type": "code",
      "source": [
        "# もし前置記法の場合はこのような出力となる\n",
        "pre_order(root)"
      ],
      "metadata": {
        "colab": {
          "base_uri": "https://localhost:8080/"
        },
        "id": "tjxG3Spu0eHw",
        "outputId": "c4348ac0-7566-494c-d7e5-8cbe36ba1421"
      },
      "execution_count": 4,
      "outputs": [
        {
          "output_type": "stream",
          "name": "stdout",
          "text": [
            "+ * - 5 3 2 / - 7 4 + 2 1 "
          ]
        }
      ]
    },
    {
      "cell_type": "code",
      "source": [
        "# 我々が通常用いている記法\n",
        "in_order(root)"
      ],
      "metadata": {
        "colab": {
          "base_uri": "https://localhost:8080/"
        },
        "id": "JbsDFJeJ0h0H",
        "outputId": "e5eba8c3-a34b-41c6-fbe9-f0fd6c893a33"
      },
      "execution_count": 5,
      "outputs": [
        {
          "output_type": "stream",
          "name": "stdout",
          "text": [
            "5 - 3 * 2 + 7 - 4 / 2 + 1 "
          ]
        }
      ]
    },
    {
      "cell_type": "code",
      "source": [
        "# 今回問題で問われている記法\n",
        "post_order(root)"
      ],
      "metadata": {
        "colab": {
          "base_uri": "https://localhost:8080/"
        },
        "id": "8GfOKJZK0rW-",
        "outputId": "a5955c73-34af-4887-86ed-6164ca7a0941"
      },
      "execution_count": 6,
      "outputs": [
        {
          "output_type": "stream",
          "name": "stdout",
          "text": [
            "5 3 - 2 * 7 4 - 2 1 + / + "
          ]
        }
      ]
    }
  ]
}