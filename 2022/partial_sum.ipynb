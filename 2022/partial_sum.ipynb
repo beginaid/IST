{
  "nbformat": 4,
  "nbformat_minor": 0,
  "metadata": {
    "colab": {
      "provenance": [],
      "authorship_tag": "ABX9TyNJJOLC+HAWChjg+rKyMaIm"
    },
    "kernelspec": {
      "name": "python3",
      "display_name": "Python 3"
    },
    "language_info": {
      "name": "python"
    }
  },
  "cells": [
    {
      "cell_type": "code",
      "execution_count": 1,
      "metadata": {
        "id": "dGI_1qVbKwcR"
      },
      "outputs": [],
      "source": [
        "'''\n",
        "初期設定\n",
        "'''\n",
        "N = 6  # 部分和をとる集合の要素数\n",
        "X = 20  # 部分和をとる集合の要素の総和\n",
        "A = [10, 3, 6, 13, 11, 4] # アイテムの重さ\n",
        "dp = [[0]*(X+1) for i in range(N)] # 空のDPテーブル作成\n",
        "# 総和が0の場合は便宜上DPテーブルの値は1に設定しておく\n",
        "for i in range(N):\n",
        "    dp[i][0] = 1\n",
        "# A[0]の選び方は1通り\n",
        "dp[0][A[0]] = 1\n",
        "\n",
        "'''\n",
        "DP実行\n",
        "'''\n",
        "for i in range(N):\n",
        "    for j in range(X+1):\n",
        "        if A[i] <= j :\n",
        "            dp[i][j] = dp[i - 1][j - A[i]] + dp[i - 1][j]\n",
        "        else: \n",
        "            dp[i][j] = dp[i - 1][j]"
      ]
    },
    {
      "cell_type": "code",
      "source": [
        "# DPテーブルの表示\n",
        "for i in range(len(dp)): \n",
        "    print(dp[i])"
      ],
      "metadata": {
        "colab": {
          "base_uri": "https://localhost:8080/"
        },
        "id": "DYgNN6S_LNp_",
        "outputId": "426ed311-10d6-4f0e-994d-5646fc9ff83a"
      },
      "execution_count": 2,
      "outputs": [
        {
          "output_type": "stream",
          "name": "stdout",
          "text": [
            "[1, 0, 0, 0, 0, 0, 0, 0, 0, 0, 1, 0, 0, 0, 0, 0, 0, 0, 0, 0, 0]\n",
            "[1, 0, 0, 1, 0, 0, 0, 0, 0, 0, 1, 0, 0, 1, 0, 0, 0, 0, 0, 0, 0]\n",
            "[1, 0, 0, 1, 0, 0, 1, 0, 0, 1, 1, 0, 0, 1, 0, 0, 1, 0, 0, 1, 0]\n",
            "[1, 0, 0, 1, 0, 0, 1, 0, 0, 1, 1, 0, 0, 2, 0, 0, 2, 0, 0, 2, 0]\n",
            "[1, 0, 0, 1, 0, 0, 1, 0, 0, 1, 1, 1, 0, 2, 1, 0, 2, 1, 0, 2, 1]\n",
            "[1, 0, 0, 1, 1, 0, 1, 1, 0, 1, 2, 1, 0, 3, 2, 1, 2, 3, 1, 2, 3]\n"
          ]
        }
      ]
    },
    {
      "cell_type": "code",
      "source": [
        "# d(6,20)の表示\n",
        "print(dp[5][20])"
      ],
      "metadata": {
        "id": "UZxNnDg6ZO20",
        "colab": {
          "base_uri": "https://localhost:8080/"
        },
        "outputId": "c3d56268-738c-4097-8a4f-1dbc7e60e761"
      },
      "execution_count": 3,
      "outputs": [
        {
          "output_type": "stream",
          "name": "stdout",
          "text": [
            "3\n"
          ]
        }
      ]
    }
  ]
}