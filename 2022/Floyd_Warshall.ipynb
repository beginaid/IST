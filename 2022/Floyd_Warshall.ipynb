{
  "nbformat": 4,
  "nbformat_minor": 0,
  "metadata": {
    "colab": {
      "provenance": [],
      "authorship_tag": "ABX9TyN9lbW9IVDdIUFlpu44J9kM"
    },
    "kernelspec": {
      "name": "python3",
      "display_name": "Python 3"
    },
    "language_info": {
      "name": "python"
    }
  },
  "cells": [
    {
      "cell_type": "code",
      "execution_count": 1,
      "metadata": {
        "id": "6I5GU-3UpXD-"
      },
      "outputs": [],
      "source": [
        "N = 4 # 頂点数\n",
        "D = [[float(\"inf\")]*N for _ in range(N)] # 距離行列はinfで初期化しておく\n",
        "\n",
        "# 自分自身への距離は0\n",
        "for i in range(N):\n",
        "    D[i][i] = 0\n",
        "\n",
        "# 与えられた有向グラフの条件\n",
        "D[0][1] = 1\n",
        "D[0][2] = 2\n",
        "D[1][0] = 2\n",
        "D[2][3] = 2\n",
        "D[3][0] = 4\n",
        "D[3][1] = 1"
      ]
    },
    {
      "cell_type": "code",
      "source": [
        "# ワーシャル・フロイド法の実行\n",
        "for k in range(N):\n",
        "    for i in range(N):\n",
        "        for j in range(N):\n",
        "            if (D[i][j] > D[i][k] + D[k][j]):\n",
        "                D[i][j] = D[i][k] + D[k][j]"
      ],
      "metadata": {
        "id": "6dEhVk4KrbXx"
      },
      "execution_count": 2,
      "outputs": []
    },
    {
      "cell_type": "code",
      "source": [
        "# 距離行列の可視化\n",
        "print(*D, sep=\"\\n\")"
      ],
      "metadata": {
        "colab": {
          "base_uri": "https://localhost:8080/"
        },
        "id": "mEo9STcUrhF-",
        "outputId": "bceff9d6-516d-442e-9b85-f49b5ba6522c"
      },
      "execution_count": 3,
      "outputs": [
        {
          "output_type": "stream",
          "name": "stdout",
          "text": [
            "[0, 1, 2, 4]\n",
            "[2, 0, 4, 6]\n",
            "[5, 3, 0, 2]\n",
            "[3, 1, 5, 0]\n"
          ]
        }
      ]
    }
  ]
}