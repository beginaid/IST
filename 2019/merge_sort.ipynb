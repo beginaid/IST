{
  "nbformat": 4,
  "nbformat_minor": 0,
  "metadata": {
    "colab": {
      "name": "Untitled2.ipynb",
      "provenance": [],
      "authorship_tag": "ABX9TyNBS85JO3d2PP5+Aeoztvzb"
    },
    "kernelspec": {
      "name": "python3",
      "display_name": "Python 3"
    },
    "language_info": {
      "name": "python"
    }
  },
  "cells": [
    {
      "cell_type": "code",
      "source": [
        "import math"
      ],
      "metadata": {
        "id": "oacHn48g0xqB"
      },
      "outputs": []
    },
    {
      "cell_type": "code",
      "metadata": {
        "id": "EAX9L3r10Szd"
      },
      "outputs": [],
      "source": [
        "def func(A):\n",
        "    # ソート対象となる配列の長さ\n",
        "    n = len(A)\n",
        "\n",
        "    # 再帰的に呼び出していった結果，長さが1でストップするように設定\n",
        "    if (n == 1):\n",
        "        return A\n",
        "\n",
        "    # 配列Aの真ん中のインデックス。\n",
        "    # 奇数の場合はインデックスが小さい側に含める\n",
        "    m = math.floor(n / 2)\n",
        "    # 左側の配列\n",
        "    L = func(A[0:m])\n",
        "    # 右側の配列\n",
        "    R = func(A[m:n])\n",
        "\n",
        "    # 結果を入れるための空の配列\n",
        "    B = []\n",
        "    # それぞれL,Rを調べるとき注目しているインデックス\n",
        "    i = j = 0\n",
        "\n",
        "    # 注目しているインデックスが左右の配列の長さと等しくなるまで繰り返す\n",
        "    while (i < len(L) or j < len(R)):\n",
        "        # iが調査済みでjで未調査の要素が残っている場合\n",
        "        if (i == len(L) and j < len(R)):\n",
        "            # Bにjが調査しているソート済みの要素を格納\n",
        "            B.append(R[j])\n",
        "            # jは次の要素に向かう\n",
        "            j = j + 1\n",
        "        # jが調査済みでiで未調査の要素が残っている場合\n",
        "        elif (j == len(R) and i < len(L)):\n",
        "            # Bにiが調査しているソート済みの要素を格納\n",
        "            B.append(L[i])\n",
        "            # iは次に向かう\n",
        "            i = i + 1\n",
        "        # iが調査している要素の方がjが調査している要素より小さい場合\n",
        "        elif ( L[i] <= R[j] ):\n",
        "            # iが調査している要素をBに入れる\n",
        "            B.append(L[i])\n",
        "            # iは次に進む\n",
        "            i = i + 1\n",
        "        # jが調査している要素の方がiが調査している要素より小さい場合\n",
        "        else:\n",
        "            # jが調査している要素をBに入れる\n",
        "            B.append(R[j])\n",
        "            # jは次に進む\n",
        "            j = j + 1\n",
        "    # 各再帰フェーズが終了するごとにBを表示する\n",
        "    print(B)\n",
        "    # 各再帰フェーズが終了するごとにBを返す\n",
        "    return B"
      ]
    },
    {
      "cell_type": "code",
      "source": [
        "func([2, 9, 5, 3, 7, 0, 1, 4])"
      ],
      "metadata": {
        "colab": {
          "base_uri": "https://localhost:8080/"
        },
        "id": "jyXIQTb20Tyk",
        "outputId": "84086fd3-7f42-40e8-f969-e794af26124e"
      },
      "outputs": [
        {
          "output_type": "stream",
          "name": "stdout",
          "text": [
            "[2, 9]\n",
            "[3, 5]\n",
            "[2, 3, 5, 9]\n",
            "[0, 7]\n",
            "[1, 4]\n",
            "[0, 1, 4, 7]\n",
            "[0, 1, 2, 3, 4, 5, 7, 9]\n"
          ]
        },
        {
          "output_type": "execute_result",
          "data": {
            "text/plain": [
              "[0, 1, 2, 3, 4, 5, 7, 9]"
            ]
          },
          "metadata": {},
        }
      ]
    }
  ]
}
