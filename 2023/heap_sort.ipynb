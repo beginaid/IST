{
  "nbformat": 4,
  "nbformat_minor": 0,
  "metadata": {
    "colab": {
      "provenance": [],
      "authorship_tag": "ABX9TyNwwluFnYJS06fc3qFONc6a"
    },
    "kernelspec": {
      "name": "python3",
      "display_name": "Python 3"
    },
    "language_info": {
      "name": "python"
    }
  },
  "cells": [
    {
      "cell_type": "code",
      "source": [
        "def Left(i):\n",
        "    return 2 * i + 1 # 問題文とは異なり0をインデックスの開始番号とする\n",
        "\n",
        "def Right(i):\n",
        "    return 2 * i + 2 # 問題文とは異なり0をインデックスの開始番号とする\n",
        "\n",
        "class PseudoList:\n",
        "    def __init__(self, data):\n",
        "        self.data = data\n",
        "        self.heapsize = len(data) # 初回のheapsizeは配列の長さで初期化\n",
        "        self._length = len(data)  # lengthは@propertyのgetter経由でのみ取得可能とするため_を接頭に付けている\n",
        "\n",
        "    # lengthは@propertyのgetter経由でのみ取得可能とする\n",
        "    @property\n",
        "    def length(self):\n",
        "        return self._length\n",
        "\n",
        "    # lengthの再代入は禁止する\n",
        "    @length.setter\n",
        "    def length(self, value):\n",
        "        raise AttributeError(\"Length cannot be reassigned.\")\n",
        "\n",
        "    # 通常の配列と同様にインデックスで要素にアクセス可能\n",
        "    def __getitem__(self, i):\n",
        "        return self.data[i]\n",
        "\n",
        "    # 通常の配列と同様にインデックスを指定して要素を変更できる\n",
        "    def __setitem__(self, i, v):\n",
        "        self.data[i] = v"
      ],
      "metadata": {
        "id": "OT4athuBJQVJ"
      },
      "execution_count": null,
      "outputs": []
    },
    {
      "cell_type": "code",
      "execution_count": null,
      "metadata": {
        "id": "7gp7ChxkI9Hn"
      },
      "outputs": [],
      "source": [
        "def MaxHeapify(A, i):\n",
        "    lft = Left(i)\n",
        "    rgt = Right(i)\n",
        "    largest = i\n",
        "    if lft < A.heapsize and A[largest] < A[lft]: # 0をインデックスの開始番号とするため、A.heapsizeの端点は含まない\n",
        "        largest = lft\n",
        "    if rgt < A.heapsize and A[largest] < A[rgt]: # 0をインデックスの開始番号とするため、A.heapsizeの端点は含まない\n",
        "        largest = rgt\n",
        "    if largest != i:\n",
        "        A[i], A[largest] = A[largest], A[i]\n",
        "        MaxHeapify(A, largest)"
      ]
    },
    {
      "cell_type": "code",
      "source": [
        "A = PseudoList([6, 11, 13])\n",
        "MaxHeapify(A, 0) # 0をインデックスの開始番号とする\n",
        "print(*A)        # [13, 11, 6]が期待値"
      ],
      "metadata": {
        "colab": {
          "base_uri": "https://localhost:8080/"
        },
        "id": "cVx_SnB5O7SO",
        "outputId": "5a60ef30-de9b-45cd-b20b-3b37d6ba809c"
      },
      "execution_count": null,
      "outputs": [
        {
          "output_type": "stream",
          "name": "stdout",
          "text": [
            "13 11 6\n"
          ]
        }
      ]
    },
    {
      "cell_type": "code",
      "source": [
        "A = PseudoList([6, 11, 13, 21, 26, 18, 7])\n",
        "for i in reversed(range(A.length//2)):\n",
        "    MaxHeapify(A, i)\n",
        "print(*A)"
      ],
      "metadata": {
        "colab": {
          "base_uri": "https://localhost:8080/"
        },
        "id": "KuBt5IKNewvq",
        "outputId": "77498e4d-7ded-4aee-b8e6-e3d9b4b91138"
      },
      "execution_count": null,
      "outputs": [
        {
          "output_type": "stream",
          "name": "stdout",
          "text": [
            "26 21 18 6 11 13 7\n"
          ]
        }
      ]
    },
    {
      "cell_type": "code",
      "source": [
        "def HeapSort(A):\n",
        "    A.heapsize = A.length # これはなくてもコンストラクタで初期化済み\n",
        "    for i in reversed(range(A.length//2)):\n",
        "        MaxHeapify(A, i)\n",
        "    for i in reversed(range(A.length)):\n",
        "        A[0], A[i] = A[i], A[0]     # 0をインデックスの開始番号とする\n",
        "        A.heapsize = A.heapsize - 1 # 配列の末尾をヒープ対象から除く\n",
        "        MaxHeapify(A, 0)            # 0をインデックスの開始番号とする"
      ],
      "metadata": {
        "id": "9NN3OyLsTrSi"
      },
      "execution_count": null,
      "outputs": []
    },
    {
      "cell_type": "code",
      "source": [
        "A = PseudoList([6, 11, 13, 21, 26, 18, 7])\n",
        "HeapSort(A)\n",
        "print(*A)"
      ],
      "metadata": {
        "colab": {
          "base_uri": "https://localhost:8080/"
        },
        "id": "HdezFt_ra14w",
        "outputId": "b8b4889d-2659-4940-bb03-35c8692b525f"
      },
      "execution_count": null,
      "outputs": [
        {
          "output_type": "stream",
          "name": "stdout",
          "text": [
            "6 7 11 13 18 21 26\n"
          ]
        }
      ]
    }
  ]
}