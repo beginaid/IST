{
  "nbformat": 4,
  "nbformat_minor": 0,
  "metadata": {
    "colab": {
      "provenance": [],
      "authorship_tag": "ABX9TyOnQLp8cASegLnxWW8BvUZk"
    },
    "kernelspec": {
      "name": "python3",
      "display_name": "Python 3"
    },
    "language_info": {
      "name": "python"
    }
  },
  "cells": [
    {
      "cell_type": "code",
      "execution_count": 1,
      "metadata": {
        "id": "kSbFAkozjj9r"
      },
      "outputs": [],
      "source": [
        "'''\n",
        "初期設定\n",
        "'''\n",
        "A = [\"P\", \"A\", \"R\", \"I\", \"S\"] # 編集前\n",
        "B = [\"P\", \"A\", \"I\", \"R\", \"S\"] # 編集後\n",
        "M = [[0]*(len(A)+1) for _ in range(len(B)+1)] # 空のDPテーブル作成\n",
        "\n",
        "'''\n",
        "初期値埋め\n",
        "'''\n",
        "for i in range(len(A)):\n",
        "    M[i+1][0] = M[i][0]+1\n",
        "for j in range(len(B)):\n",
        "    M[0][j+1] = M[0][j]+1\n",
        "\n",
        "'''\n",
        "DP実行\n",
        "'''\n",
        "for i in range(len(A)):\n",
        "    for j in range(len(B)):\n",
        "        c = 0 if A[i] == B[j] else 1\n",
        "        M[i+1][j+1] = min(M[i][j+1]+1, M[i+1][j]+1, M[i][j]+c)"
      ]
    },
    {
      "cell_type": "code",
      "source": [
        "for i in range(len(M)):\n",
        "    print(M[i])"
      ],
      "metadata": {
        "colab": {
          "base_uri": "https://localhost:8080/"
        },
        "id": "yCNanv66j_8Y",
        "outputId": "bbb0fa46-8176-40d9-d463-12c13c7bcbfb"
      },
      "execution_count": 2,
      "outputs": [
        {
          "output_type": "stream",
          "name": "stdout",
          "text": [
            "[0, 1, 2, 3, 4, 5]\n",
            "[1, 0, 1, 2, 3, 4]\n",
            "[2, 1, 0, 1, 2, 3]\n",
            "[3, 2, 1, 1, 1, 2]\n",
            "[4, 3, 2, 1, 2, 2]\n",
            "[5, 4, 3, 2, 2, 2]\n"
          ]
        }
      ]
    }
  ]
}