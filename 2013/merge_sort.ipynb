{
  "nbformat": 4,
  "nbformat_minor": 0,
  "metadata": {
    "colab": {
      "provenance": [],
      "authorship_tag": "ABX9TyOl5VE9sn5B/oPofItjsZLR"
    },
    "kernelspec": {
      "name": "python3",
      "display_name": "Python 3"
    },
    "language_info": {
      "name": "python"
    }
  },
  "cells": [
    {
      "cell_type": "code",
      "execution_count": 1,
      "metadata": {
        "id": "tnM_1B37y-Iu"
      },
      "outputs": [],
      "source": [
        "def merge_sort(D, a, b):\n",
        "    \"\"\"\n",
        "    配列Dの指定された範囲[a, b]をマージソートで破壊的にソートする。\n",
        "\n",
        "    Args:\n",
        "        D (list): ソート対象のリスト。\n",
        "        a (int): ソート対象範囲の開始インデックス。\n",
        "        b (int): ソート対象範囲の終了インデックス。\n",
        "    \"\"\"\n",
        "    # 要素が1以下なら何もしない\n",
        "    if a >= b:\n",
        "        return\n",
        "\n",
        "    # 区間を中央で分割\n",
        "    c = (a + b) // 2\n",
        "\n",
        "    # 左半分を再帰的にソート\n",
        "    merge_sort(D, a, c)\n",
        "    # 右半分を再帰的にソート\n",
        "    merge_sort(D, c + 1, b)\n",
        "\n",
        "    # ソートされた左右の区間をマージ\n",
        "    merge(D, a, c, b)\n",
        "\n",
        "\n",
        "def merge(D, a, c, b):\n",
        "    \"\"\"\n",
        "    配列Dの2つのソート済み区間[a, c]と[c+1, b]をマージする。\n",
        "\n",
        "    Args:\n",
        "        D (list): マージ対象のリスト\n",
        "        a (int): 左区間の開始インデックス\n",
        "        c (int): 左区間の終了インデックス\n",
        "        b (int): 右区間の終了インデックス\n",
        "    \"\"\"\n",
        "    # マージのための一時配列\n",
        "    left = D[a : c + 1]\n",
        "    right = D[c + 1 : b + 1]\n",
        "\n",
        "    i = 0  # left の現在のインデックス\n",
        "    j = 0  # right の現在のインデックス\n",
        "    k = a  # D の現在の書き込みインデックス\n",
        "\n",
        "    # 両方のハーフから小さい方をDに配置\n",
        "    while i < len(left) and j < len(right):\n",
        "        if left[i] <= right[j]:\n",
        "            D[k] = left[i]\n",
        "            i += 1\n",
        "        else:\n",
        "            D[k] = right[j]\n",
        "            j += 1\n",
        "        k += 1\n",
        "\n",
        "    # leftに残っている要素があればDにコピー\n",
        "    while i < len(left):\n",
        "        D[k] = left[i]\n",
        "        i += 1\n",
        "        k += 1\n",
        "\n",
        "    # rightに残っている要素があればDにコピー\n",
        "    while j < len(right):\n",
        "        D[k] = right[j]\n",
        "        j += 1\n",
        "        k += 1"
      ]
    },
    {
      "cell_type": "code",
      "source": [
        "my_list = [38, 27, 43, 3, 9, 82, 10]\n",
        "print(f\"ソート前: {my_list}\")\n",
        "merge_sort(my_list, 0, len(my_list) - 1)\n",
        "print(f\"ソート後: {my_list}\")\n",
        "\n",
        "print(\"=====\")\n",
        "\n",
        "my_list_2 = [5, 2, 8, 1, 9, 4, 7, 3, 6, 0]\n",
        "print(f\"ソート前: {my_list_2}\")\n",
        "merge_sort(my_list_2, 0, len(my_list_2) - 1)\n",
        "print(f\"ソート後: {my_list_2}\")\n",
        "\n",
        "print(\"=====\")\n",
        "\n",
        "my_list_3 = [1]\n",
        "print(f\"ソート前: {my_list_3}\")\n",
        "merge_sort(my_list_3, 0, len(my_list_3) - 1)\n",
        "print(f\"ソート後: {my_list_3}\")\n",
        "\n",
        "print(\"=====\")\n",
        "\n",
        "my_list_4 = []\n",
        "print(f\"ソート前: {my_list_4}\")\n",
        "merge_sort(my_list_4, 0, len(my_list_4) - 1) # 空のリストの場合\n",
        "print(f\"ソート後: {my_list_4}\")"
      ],
      "metadata": {
        "colab": {
          "base_uri": "https://localhost:8080/"
        },
        "id": "9utAljn6zFWv",
        "outputId": "07fd9084-c11e-4d4b-d5c9-8bd62b50419f"
      },
      "execution_count": 2,
      "outputs": [
        {
          "output_type": "stream",
          "name": "stdout",
          "text": [
            "ソート前: [38, 27, 43, 3, 9, 82, 10]\n",
            "ソート後: [3, 9, 10, 27, 38, 43, 82]\n",
            "=====\n",
            "ソート前: [5, 2, 8, 1, 9, 4, 7, 3, 6, 0]\n",
            "ソート後: [0, 1, 2, 3, 4, 5, 6, 7, 8, 9]\n",
            "=====\n",
            "ソート前: [1]\n",
            "ソート後: [1]\n",
            "=====\n",
            "ソート前: []\n",
            "ソート後: []\n"
          ]
        }
      ]
    }
  ]
}