{
  "nbformat": 4,
  "nbformat_minor": 0,
  "metadata": {
    "colab": {
      "provenance": [],
      "authorship_tag": "ABX9TyMrqN+rpkRYKxQUEjtXPsrw"
    },
    "kernelspec": {
      "name": "python3",
      "display_name": "Python 3"
    },
    "language_info": {
      "name": "python"
    }
  },
  "cells": [
    {
      "cell_type": "code",
      "source": [
        "def string_matching(text, pattern, shift):\n",
        "    i = j = 0\n",
        "    start_index = 0\n",
        "    skip_flag = True # コメント出力用のshift利用有無\n",
        "    while True:\n",
        "        if (skip_flag): print(f\"---------- p[{start_index}]から探索開始 ----------\")\n",
        "        print(f\"t[{i}]とp[{j}]を比較します: \", end=\"\")\n",
        "        if (text[i] == pattern[j]):\n",
        "            print(f\"一致しました\")\n",
        "            j = j + 1\n",
        "            if (j == len(pattern)):\n",
        "                print(f\"textの中にpatternが見つかりました: \")\n",
        "                return i - j + 1\n",
        "            i = i + 1\n",
        "            skip_flag = False\n",
        "        else:\n",
        "            print(f\"一致しなかったため、p[{i-j}]から{shift[j]}だけ右にずらします\")\n",
        "            i = start_index + shift[j]\n",
        "            start_index = start_index + shift[j]\n",
        "            skip_flag = True\n",
        "            if (j < shift[j]):\n",
        "                print(f\"※ j < shift[j]だったため、jを0にリセットします\\n\")\n",
        "                j = 0\n",
        "            else:\n",
        "                print(f\"※ j >= shift[j]だったため、jを{shift[j]}から開始します\\n\")\n",
        "                i = i + shift[j]\n",
        "                j = shift[j]\n",
        "    return -1"
      ],
      "metadata": {
        "id": "vBgDUAfmutTE"
      },
      "execution_count": 1,
      "outputs": []
    },
    {
      "cell_type": "code",
      "source": [
        "text = \"ACAACCAABA\"\n",
        "pattern = \"AABA\"\n",
        "shift = [1,2,1,4]\n",
        "\n",
        "string_matching(text, pattern, shift)"
      ],
      "metadata": {
        "colab": {
          "base_uri": "https://localhost:8080/"
        },
        "id": "axbue8S7tnd5",
        "outputId": "365763f8-b5bc-422b-9c37-cf23170c005d"
      },
      "execution_count": 2,
      "outputs": [
        {
          "output_type": "stream",
          "name": "stdout",
          "text": [
            "---------- p[0]から探索開始 ----------\n",
            "t[0]とp[0]を比較します: 一致しました\n",
            "t[1]とp[1]を比較します: 一致しなかったため、p[0]から2だけ右にずらします\n",
            "※ j < shift[j]だったため、jを0にリセットします\n",
            "\n",
            "---------- p[2]から探索開始 ----------\n",
            "t[2]とp[0]を比較します: 一致しました\n",
            "t[3]とp[1]を比較します: 一致しました\n",
            "t[4]とp[2]を比較します: 一致しなかったため、p[2]から1だけ右にずらします\n",
            "※ j >= shift[j]だったため、jを1から開始します\n",
            "\n",
            "---------- p[3]から探索開始 ----------\n",
            "t[4]とp[1]を比較します: 一致しなかったため、p[3]から2だけ右にずらします\n",
            "※ j < shift[j]だったため、jを0にリセットします\n",
            "\n",
            "---------- p[5]から探索開始 ----------\n",
            "t[5]とp[0]を比較します: 一致しなかったため、p[5]から1だけ右にずらします\n",
            "※ j < shift[j]だったため、jを0にリセットします\n",
            "\n",
            "---------- p[6]から探索開始 ----------\n",
            "t[6]とp[0]を比較します: 一致しました\n",
            "t[7]とp[1]を比較します: 一致しました\n",
            "t[8]とp[2]を比較します: 一致しました\n",
            "t[9]とp[3]を比較します: 一致しました\n",
            "textの中にpatternが見つかりました: \n"
          ]
        },
        {
          "output_type": "execute_result",
          "data": {
            "text/plain": [
              "6"
            ]
          },
          "metadata": {},
          "execution_count": 2
        }
      ]
    }
  ]
}