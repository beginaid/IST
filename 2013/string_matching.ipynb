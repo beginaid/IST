{
  "nbformat": 4,
  "nbformat_minor": 0,
  "metadata": {
    "colab": {
      "provenance": [],
      "authorship_tag": "ABX9TyP3p/cD1E80BtfYcyn1Y2bp"
    },
    "kernelspec": {
      "name": "python3",
      "display_name": "Python 3"
    },
    "language_info": {
      "name": "python"
    }
  },
  "cells": [
    {
      "cell_type": "code",
      "source": [
        "def string_matching(text, pattern, shift):\n",
        "    i = j = 0\n",
        "    # c言語のfor文と合わせるためwhile文を利用する\n",
        "    while i < len(text):\n",
        "        if (text[i] == pattern[j]):\n",
        "            j = j + 1\n",
        "            if (j == len(pattern)):\n",
        "                return i - j + 1\n",
        "        else:\n",
        "            if (j < shift[j]):\n",
        "                j = 0\n",
        "            else:\n",
        "                j = j - shift[j]\n",
        "                i = i - 1\n",
        "        i = i + 1 # while文を利用しているため\n",
        "    return -1"
      ],
      "metadata": {
        "id": "Rp_U2XWlwTnK"
      },
      "execution_count": 1,
      "outputs": []
    },
    {
      "cell_type": "code",
      "execution_count": 2,
      "metadata": {
        "colab": {
          "base_uri": "https://localhost:8080/"
        },
        "id": "yKwO0_j_wMR-",
        "outputId": "da13f5cc-f223-41f5-b310-2f3f0aa3bd22"
      },
      "outputs": [
        {
          "output_type": "execute_result",
          "data": {
            "text/plain": [
              "8"
            ]
          },
          "metadata": {},
          "execution_count": 2
        }
      ],
      "source": [
        "text = \"BCBAABCBABCA\"\n",
        "pattern = \"ABCA\"\n",
        "shift = [1, 1, 2, 4]\n",
        "string_matching(text, pattern, shift)"
      ]
    },
    {
      "cell_type": "code",
      "source": [
        "text = \"ABABABC\"\n",
        "pattern = \"ABABC\"\n",
        "shift = [1, 1, 3, 3, 2]\n",
        "string_matching(text, pattern, shift)"
      ],
      "metadata": {
        "colab": {
          "base_uri": "https://localhost:8080/"
        },
        "id": "EuCuKzZ9zUYh",
        "outputId": "42217fa0-0d6a-4d99-939d-afc6c9df9901"
      },
      "execution_count": 3,
      "outputs": [
        {
          "output_type": "execute_result",
          "data": {
            "text/plain": [
              "2"
            ]
          },
          "metadata": {},
          "execution_count": 3
        }
      ]
    },
    {
      "cell_type": "code",
      "source": [
        "text = \"XXXXXXXX\"\n",
        "pattern = \"ABABC\"\n",
        "shift = [1, 1, 3, 3, 2]\n",
        "string_matching(text, pattern, shift)"
      ],
      "metadata": {
        "colab": {
          "base_uri": "https://localhost:8080/"
        },
        "id": "efKPsfMx4xF9",
        "outputId": "b4dcb7a1-9be0-46c5-abe0-1a50b27d49e9"
      },
      "execution_count": 4,
      "outputs": [
        {
          "output_type": "execute_result",
          "data": {
            "text/plain": [
              "-1"
            ]
          },
          "metadata": {},
          "execution_count": 4
        }
      ]
    }
  ]
}