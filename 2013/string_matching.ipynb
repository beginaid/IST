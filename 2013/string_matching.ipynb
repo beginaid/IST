{
  "nbformat": 4,
  "nbformat_minor": 0,
  "metadata": {
    "colab": {
      "provenance": [],
      "authorship_tag": "ABX9TyOPmTCk4doH9J9ypaEWWx3b"
    },
    "kernelspec": {
      "name": "python3",
      "display_name": "Python 3"
    },
    "language_info": {
      "name": "python"
    }
  },
  "cells": [
    {
      "cell_type": "code",
      "source": [
        "def string_matching(text, pattern, shift):\n",
        "    i = j = 0\n",
        "    # c言語のfor文と合わせるためwhileを利用する\n",
        "    while i < len(text):\n",
        "        if (text[i] == pattern[j]):\n",
        "            j = j + 1\n",
        "            if (j == len(pattern)):\n",
        "                return i - j + 1\n",
        "        else:\n",
        "            if (j < shift[j]):\n",
        "                j = 0\n",
        "            else:\n",
        "                j = j - shift[j]\n",
        "                i = i - 1\n",
        "        i = i + 1 # while文を利用しているため\n",
        "    return -1"
      ],
      "metadata": {
        "id": "Rp_U2XWlwTnK"
      },
      "execution_count": 1,
      "outputs": []
    },
    {
      "cell_type": "code",
      "execution_count": 2,
      "metadata": {
        "colab": {
          "base_uri": "https://localhost:8080/"
        },
        "id": "yKwO0_j_wMR-",
        "outputId": "60f0a8b6-9fb9-432c-8924-539c9689e59d"
      },
      "outputs": [
        {
          "output_type": "execute_result",
          "data": {
            "text/plain": [
              "8"
            ]
          },
          "metadata": {},
          "execution_count": 2
        }
      ],
      "source": [
        "text = \"BCBAABCBABCA\"\n",
        "pattern = \"ABCA\"\n",
        "shift = [1, 1, 2, 4]\n",
        "string_matching(text, pattern, shift)"
      ]
    },
    {
      "cell_type": "code",
      "source": [
        "text = \"ABABABC\"\n",
        "pattern = \"ABABC\"\n",
        "shift = [1, 1, 3, 3, 2]\n",
        "string_matching(text, pattern, shift)"
      ],
      "metadata": {
        "colab": {
          "base_uri": "https://localhost:8080/"
        },
        "id": "EuCuKzZ9zUYh",
        "outputId": "4ab346fd-4600-4aa7-87f5-887882d12ace"
      },
      "execution_count": 3,
      "outputs": [
        {
          "output_type": "execute_result",
          "data": {
            "text/plain": [
              "2"
            ]
          },
          "metadata": {},
          "execution_count": 3
        }
      ]
    }
  ]
}