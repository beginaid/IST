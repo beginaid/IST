{
  "nbformat": 4,
  "nbformat_minor": 0,
  "metadata": {
    "colab": {
      "provenance": [],
      "authorship_tag": "ABX9TyOa1j6HPucdtdZV5yYbq2PV"
    },
    "kernelspec": {
      "name": "python3",
      "display_name": "Python 3"
    },
    "language_info": {
      "name": "python"
    }
  },
  "cells": [
    {
      "cell_type": "code",
      "execution_count": 1,
      "metadata": {
        "id": "kSbFAkozjj9r"
      },
      "outputs": [],
      "source": [
        "'''\n",
        "初期設定\n",
        "'''\n",
        "A = [8, -4, 1, -6] # 数列A\n",
        "B = [7, 2, -4, 3] # 数列B\n",
        "M = [[0]*(len(A)+1) for _ in range(len(B)+1)] # 空のDPテーブル作成\n",
        "\n",
        "'''\n",
        "初期値埋め\n",
        "'''\n",
        "for i in range(len(A)):\n",
        "    M[i+1][0] = M[i][0]+abs(A[i])\n",
        "for j in range(len(B)):\n",
        "    M[0][j+1] = M[0][j]+abs(B[j])\n",
        "\n",
        "'''\n",
        "DP実行\n",
        "'''\n",
        "for i in range(len(A)):\n",
        "    for j in range(len(B)):\n",
        "        M[i+1][j+1] = min(M[i][j+1]+abs(A[i]), M[i+1][j]+abs(B[j]), M[i][j]+abs(A[i]-B[j]))"
      ]
    },
    {
      "cell_type": "code",
      "source": [
        "for i in range(len(M)):\n",
        "    print(M[i])"
      ],
      "metadata": {
        "colab": {
          "base_uri": "https://localhost:8080/"
        },
        "id": "yCNanv66j_8Y",
        "outputId": "4041487e-13da-4639-e836-983b258b71d4"
      },
      "execution_count": 2,
      "outputs": [
        {
          "output_type": "stream",
          "name": "stdout",
          "text": [
            "[0, 7, 9, 13, 16]\n",
            "[8, 1, 3, 7, 10]\n",
            "[12, 5, 7, 3, 6]\n",
            "[13, 6, 6, 4, 5]\n",
            "[19, 12, 12, 8, 11]\n"
          ]
        }
      ]
    }
  ]
}