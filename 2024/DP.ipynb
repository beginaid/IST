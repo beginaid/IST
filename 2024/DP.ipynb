{
  "nbformat": 4,
  "nbformat_minor": 0,
  "metadata": {
    "colab": {
      "provenance": [],
      "authorship_tag": "ABX9TyMPnDmm1dSR1fPYVnNL7Toa"
    },
    "kernelspec": {
      "name": "python3",
      "display_name": "Python 3"
    },
    "language_info": {
      "name": "python"
    }
  },
  "cells": [
    {
      "cell_type": "code",
      "execution_count": 1,
      "metadata": {
        "id": "gGi-bspcIS3p"
      },
      "outputs": [],
      "source": [
        "c = [2, 5, 7, 10, 13]  # 品物の重さ\n",
        "n = len(c)             # 品物の種類数\n",
        "W = 27                 # 目標の重さ"
      ]
    },
    {
      "cell_type": "code",
      "source": [
        "def solve_I(c, n, W):\n",
        "    I = [[0] * (W + 1) for _ in range(n + 1)]\n",
        "    I[0][0] = 1  # 重さ0は何も使わなければ作れる\n",
        "\n",
        "    for i in range(1, n + 1):\n",
        "        for j in range(W + 1):\n",
        "            if j >= c[i-1]:\n",
        "                I[i][j] = max(I[i-1][j], I[i-1][j-c[i-1]])\n",
        "            else:\n",
        "                I[i][j] = I[i-1][j]\n",
        "\n",
        "    return I\n",
        "\n",
        "def solve_S(c, n, W):\n",
        "    INF = float('inf')\n",
        "    S = [[INF] * (W + 1) for _ in range(n + 1)]\n",
        "    S[0][0] = 0  # 重さ0は品物0個\n",
        "\n",
        "    for i in range(1, n + 1):\n",
        "        for j in range(W + 1):\n",
        "            # 品物iを使わない場合\n",
        "            S[i][j] = S[i-1][j]\n",
        "            # 品物iを使う場合（重さc[i-1]以上なら）\n",
        "            if j >= c[i-1]:\n",
        "                S[i][j] = min(S[i][j], S[i][j-c[i-1]] + 1)\n",
        "\n",
        "    return S\n",
        "\n",
        "def solve_P(c, n, W):\n",
        "    P = [[0] * (W + 1) for _ in range(n + 1)]\n",
        "    P[0][0] = 1  # 重さ0を作る方法は1通り（何も使わない）\n",
        "\n",
        "    for i in range(1, n + 1):\n",
        "        for j in range(W + 1):\n",
        "            # 品物iを使わない場合\n",
        "            P[i][j] = P[i-1][j]\n",
        "            # 品物iを使う場合\n",
        "            if j >= c[i-1]:\n",
        "                P[i][j] += P[i][j-c[i-1]]\n",
        "\n",
        "    return P"
      ],
      "metadata": {
        "id": "RWJFnZS2I-8y"
      },
      "execution_count": 2,
      "outputs": []
    },
    {
      "cell_type": "code",
      "source": [
        "I = solve_I(c, n, W)\n",
        "S = solve_S(c, n, W)\n",
        "P = solve_P(c, n, W)\n",
        "\n",
        "print(f\"(1) 重さ{W}を作れるか：{bool(I[n][W])}\")\n",
        "print(f\"(2) 重さ{W}を作る最小個数：{S[n][W] if S[n][W] != float('inf') else '作れない'}\")\n",
        "print(f\"(3) 重さ{W}を作る方法の総数：{P[n][W]}\")"
      ],
      "metadata": {
        "colab": {
          "base_uri": "https://localhost:8080/"
        },
        "id": "mQZWxVkxJBx5",
        "outputId": "94b8e05d-95bd-4204-d5f9-d8f34364d924"
      },
      "execution_count": 3,
      "outputs": [
        {
          "output_type": "stream",
          "name": "stdout",
          "text": [
            "(1) 重さ27を作れるか：True\n",
            "(2) 重さ27を作る最小個数：3\n",
            "(3) 重さ27を作る方法の総数：19\n"
          ]
        }
      ]
    }
  ]
}