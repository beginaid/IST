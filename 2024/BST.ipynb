{
  "nbformat": 4,
  "nbformat_minor": 0,
  "metadata": {
    "colab": {
      "provenance": [],
      "authorship_tag": "ABX9TyNv8rFb4VpIuQ3d+tk4IEA/"
    },
    "kernelspec": {
      "name": "python3",
      "display_name": "Python 3"
    },
    "language_info": {
      "name": "python"
    }
  },
  "cells": [
    {
      "cell_type": "code",
      "execution_count": 1,
      "metadata": {
        "id": "ZU-KDVjIO-nn"
      },
      "outputs": [],
      "source": [
        "class Node:\n",
        "    def __init__(self, value):\n",
        "        self.value = value\n",
        "        self.left = None\n",
        "        self.right = None\n",
        "\n",
        "# 二分探索木に要素を挿入する関数\n",
        "def insert(root, value):\n",
        "    if root is None:\n",
        "        return Node(value)\n",
        "    if value < root.value:\n",
        "        root.left = insert(root.left, value)\n",
        "    else:\n",
        "        root.right = insert(root.right, value)\n",
        "    return root\n",
        "\n",
        "# 通りがけ順\n",
        "def traverse_tree(x):\n",
        "    if x is not None:\n",
        "        traverse_tree(x.left)  # 1. 左の部分木を探索\n",
        "        print(x.value)         # 2. 自分を出力\n",
        "        traverse_tree(x.right) # 3. 右の部分木を探索\n",
        "\n",
        "# 与えられた配列をソートする関数\n",
        "def bst_sort(arr):\n",
        "    root = None\n",
        "    for value in arr:\n",
        "        root = insert(root, value)\n",
        "\n",
        "    traverse_tree(root)"
      ]
    },
    {
      "cell_type": "code",
      "source": [
        "arr = [5, 3, 7, 2, 4, 6, 8]\n",
        "bst_sort(arr)"
      ],
      "metadata": {
        "colab": {
          "base_uri": "https://localhost:8080/"
        },
        "id": "sLRrqWGoPZGA",
        "outputId": "82673de1-f852-4ae3-82c4-3bed29151a30"
      },
      "execution_count": 2,
      "outputs": [
        {
          "output_type": "stream",
          "name": "stdout",
          "text": [
            "2\n",
            "3\n",
            "4\n",
            "5\n",
            "6\n",
            "7\n",
            "8\n"
          ]
        }
      ]
    }
  ]
}